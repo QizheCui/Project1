{
 "cells": [
  {
   "cell_type": "markdown",
   "metadata": {},
   "source": [
    "# Clean Text Data"
   ]
  },
  {
   "cell_type": "code",
   "execution_count": 1,
   "metadata": {},
   "outputs": [],
   "source": [
    "# # Check module locations if required\n",
    "# import sys\n",
    "# import pprint\n",
    "# pprint.pprint(sys.path)"
   ]
  },
  {
   "cell_type": "code",
   "execution_count": 2,
   "metadata": {},
   "outputs": [],
   "source": [
    "import numpy as np\n",
    "import pandas as pd\n",
    "import datetime as dt\n",
    "import os\n",
    "import codecs\n",
    "import io\n",
    "from lxml import etree\n",
    "from dateutil.relativedelta import *\n",
    "\n",
    "import seaborn as sns; sns.set(style=\"darkgrid\")\n",
    "import matplotlib.pyplot as plt\n",
    "import matplotlib.ticker as ticker\n",
    "\n",
    "import re\n",
    "import pickle\n",
    "from tqdm.notebook import tqdm\n",
    "\n",
    "import nltk"
   ]
  },
  {
   "cell_type": "code",
   "execution_count": 3,
   "metadata": {},
   "outputs": [],
   "source": [
    "# Set display preference (Optional)\n",
    "plt.rcParams[\"figure.figsize\"] = (18,9)\n",
    "plt.style.use('fivethirtyeight')\n",
    "\n",
    "pd.options.display.max_rows = 20\n",
    "pd.options.display.max_seq_items = 50\n",
    "pd.set_option('display.max_colwidth', 200)"
   ]
  },
  {
   "cell_type": "markdown",
   "metadata": {},
   "source": [
    "## Define Utility Functions"
   ]
  },
  {
   "cell_type": "code",
   "execution_count": 4,
   "metadata": {},
   "outputs": [],
   "source": [
    "# Functions for map() or apply()\n",
    "\n",
    "def get_word_count(x):\n",
    "    '''\n",
    "    Retun the number of words for the given text x.\n",
    "    '''\n",
    "    x = x.replace(\"[SECTION]\", \"\")\n",
    "    return len(re.findall(r'\\b([a-zA-Z]+n\\'t|[a-zA-Z]+\\'s|[a-zA-Z]+)\\b', x))\n",
    "        \n",
    "def get_rate_change(x):\n",
    "    '''\n",
    "    Returns rate change decision of the FOMC Decision for the given date x.\n",
    "    x should be of datetime type or yyyy-mm-dd format string.\n",
    "    '''\n",
    "    # If x is string, convert to datetime\n",
    "    if type(x) is str:\n",
    "        try:\n",
    "            x = dt.datetime.strptime(x, '%Y-%m-%d')\n",
    "        except:\n",
    "            return None\n",
    "    \n",
    "    if x in fomc_calendar.index:\n",
    "        return fomc_calendar.loc[x]['RateDecision']\n",
    "    else:        \n",
    "        return None\n",
    "\n",
    "def get_rate(x):\n",
    "    '''\n",
    "    Returns rate of the FOMC Decision for the given date x.\n",
    "    x should be of datetime type or yyyy-mm-dd format string.\n",
    "    '''\n",
    "    # If x is string, convert to datetime\n",
    "    if type(x) is str:\n",
    "        try:\n",
    "            x = dt.datetime.strptime(x, '%Y-%m-%d')\n",
    "        except:\n",
    "            return None\n",
    "        \n",
    "    if x in fomc_calendar.index:\n",
    "        return fomc_calendar.loc[x]['Rate']\n",
    "    else:        \n",
    "        return None\n",
    "\n",
    "\n",
    "\n",
    "def get_next_meeting_date(x):\n",
    "    '''\n",
    "    Returns the next fomc meeting date for the given date x, referring to fomc_calendar DataFrame.\n",
    "    Usually FOMC Meetings takes two days, so it starts searching from x+2.\n",
    "    x should be of datetime type or yyyy-mm-dd format string.\n",
    "    '''\n",
    "    # If x is string, convert to datetime\n",
    "    if type(x) is str:\n",
    "        try:\n",
    "            x = dt.datetime.strptime(x, '%Y-%m-%d')\n",
    "        except:\n",
    "            return None\n",
    "\n",
    "    # Add two days to get the day after next\n",
    "    x = x + dt.timedelta(days=2)\n",
    "    \n",
    "    # Just in case, sort fomc_calendar from older to newer\n",
    "    fomc_calendar.sort_index(ascending=True, inplace=True)\n",
    "    \n",
    "    if fomc_calendar.index[0] > x:\n",
    "        # If the date is older than the first FOMC Meeting, do not return any date.\n",
    "        return None\n",
    "    else:\n",
    "        for i in range(len(fomc_calendar)):\n",
    "            if x < fomc_calendar.index[i]:\n",
    "                return fomc_calendar.index[i]\n",
    "        # If x is greater than the newest FOMC meeting date, do not return any date.\n",
    "        return None\n",
    "\n",
    "\"\"\"\n",
    "\n",
    "def get_next_meeting_date(x):\n",
    "    '''\n",
    "    Returns the next fomc meeting date for the given date x, referring to the DataFrame df.\n",
    "    Usually FOMC Meetings takes two days, so it starts searching from x+2.\n",
    "    x should be of datetime type or yyyy-mm-dd format string.\n",
    "    '''\n",
    "    # If x is string, convert to datetime\n",
    "    if isinstance(x, str):\n",
    "        try:\n",
    "            x = dt.datetime.strptime(x, '%Y-%m-%d')\n",
    "        except:\n",
    "            return None\n",
    "\n",
    "    # Add two days to get the day after next\n",
    "    x = x + dt.timedelta(days=2)\n",
    "\n",
    "    \n",
    "    if fomc_calendar['date'].iloc[0] > x:\n",
    "        # If the date is older than the first FOMC Meeting, do not return any date.\n",
    "        return None\n",
    "    else:\n",
    "        for i in range(len(fomc_calendar)):\n",
    "            if x < fomc_calendar['date'].iloc[i]:\n",
    "                return fomc_calendar['date'].iloc[i]\n",
    "        # If x is greater than the newest FOMC meeting date, do not return any date.\n",
    "        return None\n",
    "    \n",
    "\"\"\"\n",
    "    \n",
    "def get_chairperson(x):\n",
    "    '''\n",
    "    Return a tuple of chairperson's Fullname for the given date x.\n",
    "    '''\n",
    "    # If x is string, convert to datetime\n",
    "    if type(x) is str:\n",
    "        try:\n",
    "            x = dt.datetime.strftime(x, '%Y-%m-%d') # convert string of time to a datetime\n",
    "        except:\n",
    "            return None\n",
    "    \n",
    "    chairperson = chairpersons.loc[chairpersons['FromDate'] <= x].loc[x <= chairpersons['ToDate']]\n",
    "    return list(chairperson.FirstName)[0] + \" \" + list(chairperson.Surname)[0]"
   ]
  },
  {
   "cell_type": "code",
   "execution_count": null,
   "metadata": {},
   "outputs": [],
   "source": []
  },
  {
   "cell_type": "code",
   "execution_count": null,
   "metadata": {},
   "outputs": [],
   "source": []
  },
  {
   "cell_type": "code",
   "execution_count": 5,
   "metadata": {},
   "outputs": [],
   "source": [
    "def reorganize_df(df, doc_type):\n",
    "    '''\n",
    "    Reorganize the loaded dataframe, which has been obrained by FomcGetData for further processing\n",
    "        - Add type\n",
    "        - Add word count\n",
    "        - Add rate, decision (for meeting documents, None for the others)\n",
    "        - Add next meeting date, rate and decision\n",
    "        - Copy contents to org_text\n",
    "        - Remove line breaks from contents in text\n",
    "        - Split contents by \"[SECTION]\" to list in text_sections\n",
    "    '''\n",
    "    \n",
    "    if doc_type in ('statement', 'minutes', 'presconf_script', 'meeting_script'):\n",
    "        is_meeting_doc = True\n",
    "    elif doc_type in ('speech', 'testimony'):\n",
    "        is_meeting_doc = False\n",
    "    else:\n",
    "        print(\"Invalid doc_type [{}] is given!\".format(doc_type))\n",
    "        return None\n",
    "    \n",
    "    dict = {\n",
    "        'type': doc_type,\n",
    "        'date': df['date'],\n",
    "        'title': df['title'],\n",
    "        'speaker': df['speaker'],\n",
    "        'word_count': df['contents'].map(get_word_count),\n",
    "        'decision': df['date'].map(lambda x: get_rate_change(x) if is_meeting_doc else None),\n",
    "        'rate': df['date'].map(lambda x: get_rate(x) if is_meeting_doc else None),\n",
    "        'next_meeting': df['date'].map(get_next_meeting_date),\n",
    "        'next_decision': df['date'].map(get_next_meeting_date).map(get_rate_change),\n",
    "        'next_rate': df['date'].map(get_next_meeting_date).map(get_rate),        \n",
    "        'text': df['contents'].map(lambda x: x.replace('\\n','').replace('\\r','').strip()),\n",
    "        'text_sections': df['contents'].map(lambda x: x.replace('\\n','').replace('\\r','').strip().split(\"[SECTION]\")),\n",
    "        'org_text': df['contents']\n",
    "    }\n",
    "\n",
    "    new_df = pd.DataFrame(dict)\n",
    "    new_df['decision'] = new_df['decision'].astype('Int8')\n",
    "    new_df['next_decision'] = new_df['next_decision'].astype('Int8')\n",
    "    print(\"No rate decision found: \", new_df['decision'].isnull().sum())\n",
    "    print(\"Shape of the dataframe: \", new_df.shape)\n",
    "    #new_df.dropna(subset=['decision'], axis=0, inplace=True)\n",
    "    return new_df"
   ]
  },
  {
   "cell_type": "code",
   "execution_count": 6,
   "metadata": {},
   "outputs": [],
   "source": [
    "# Split functions to process long text in machine learning based NLP\n",
    "\n",
    "def get_split(text, split_len=200, overlap=50):\n",
    "    '''\n",
    "    Returns a list of split text of $split_len with overlapping of $overlap.\n",
    "    Each item of the list will have around split_len length of text.\n",
    "    '''\n",
    "    l_total = []\n",
    "    words = re.findall(r'\\b([a-zA-Z]+n\\'t|[a-zA-Z]+\\'s|[a-zA-Z]+)\\b', text)\n",
    "    \n",
    "    if len(words) < split_len:\n",
    "        n = 1\n",
    "    else:\n",
    "        n = (len(words) - overlap) // (split_len - overlap) + 1\n",
    "        \n",
    "    for i in range(n):\n",
    "        l_parcial = words[(split_len - overlap) * i: (split_len - overlap) * i + split_len]\n",
    "        l_total.append(\" \".join(l_parcial))\n",
    "    return l_total\n",
    "\n",
    "def get_split_df(df, split_len=200, overlap=50):\n",
    "    '''\n",
    "    Returns a dataframe which is an extension of an input dataframe.\n",
    "    Each row in the new dataframe has less than $split_len words in 'text'.\n",
    "    '''\n",
    "    split_data_list = []\n",
    "\n",
    "    for i, row in tqdm(df.iterrows(), total=df.shape[0]):\n",
    "        #print(\"Original Word Count: \", row['word_count'])\n",
    "        text_list = get_split(row[\"text\"], split_len, overlap)\n",
    "        for text in text_list:\n",
    "            row['text'] = text\n",
    "            #print(len(re.findall(r'\\b([a-zA-Z]+n\\'t|[a-zA-Z]+\\'s|[a-zA-Z]+)\\b', text)))\n",
    "            row['word_count'] = len(re.findall(r'\\b([a-zA-Z]+n\\'t|[a-zA-Z]+\\'s|[a-zA-Z]+)\\b', text))\n",
    "            split_data_list.append(list(row))\n",
    "            \n",
    "    split_df = pd.DataFrame(split_data_list, columns=df.columns)\n",
    "    split_df['decision'] = split_df['decision'].astype('Int8')\n",
    "    split_df['next_decision'] = split_df['next_decision'].astype('Int8')\n",
    "\n",
    "    return split_df"
   ]
  },
  {
   "cell_type": "code",
   "execution_count": 7,
   "metadata": {},
   "outputs": [],
   "source": [
    "def remove_short_section(df, min_words=50):\n",
    "    '''\n",
    "    Using 'text_sections' of the given dataframe, remove sections having less than min_words.\n",
    "    It concatinate sections with a space, which exceeds min_words and update 'text'.\n",
    "    As a fallback, keep a text which concatinates sections having more than 20 words and use it\n",
    "     if there is no section having more than min_words.\n",
    "    If there is no sections having more than 20 words, remove the row.\n",
    "    '''\n",
    "    new_df = df.copy()\n",
    "    new_text_list = []\n",
    "    new_text_section_list = []\n",
    "    new_wc_list = []\n",
    "    \n",
    "    for i, row in tqdm(new_df.iterrows(), total=new_df.shape[0]):\n",
    "        new_text = \"\"\n",
    "        bk_text = \"\"\n",
    "        new_text_section = []\n",
    "        bk_text_section = []\n",
    "                \n",
    "        for section in row['text_sections']:\n",
    "            num_words = len(re.findall(r'\\b([a-zA-Z]+n\\'t|[a-zA-Z]+\\'s|[a-zA-Z]+)\\b', section))\n",
    "            if num_words > min_words:\n",
    "                new_text += \" \" + section\n",
    "                new_text_section.append(section)\n",
    "            elif num_words > 20:\n",
    "                bk_text += \" \" + section\n",
    "                bk_text_section.append(section)\n",
    "                \n",
    "        \n",
    "        new_text = new_text.strip()\n",
    "        bk_text = bk_text.strip()\n",
    "        \n",
    "        if len(new_text) > 0:\n",
    "            new_text_list.append(new_text)\n",
    "            new_text_section_list.append(new_text_section)\n",
    "        elif len(bk_text) > 0:\n",
    "            new_text_list.append(bk_text)\n",
    "            new_text_section_list.append(bk_text_section)\n",
    "        else:\n",
    "            new_text_list.append(\"\")\n",
    "            new_text_section_list.append(\"\")\n",
    "        \n",
    "        # Update the word count\n",
    "        new_wc_list.append(len(re.findall(r'\\b([a-zA-Z]+n\\'t|[a-zA-Z]+\\'s|[a-zA-Z]+)\\b', new_text_list[-1])))\n",
    "        \n",
    "    new_df['text'] = new_text_list\n",
    "    new_df['word_count'] = new_wc_list\n",
    "    \n",
    "    return new_df.loc[new_df['word_count'] > 0]\n",
    "\n",
    "def remove_short_nokeyword(df, keywords = ['rate', 'rates', 'federal fund', 'outlook', 'forecast', 'employ', 'economy'], min_times=2, min_words=50):\n",
    "    '''\n",
    "    Drop sections which do not have any one of keywords for min_times times\n",
    "     before applying remove_short_section()\n",
    "    '''\n",
    "    \n",
    "    new_df = df.copy()\n",
    "    new_section_list = []\n",
    "    \n",
    "    for i, row in tqdm(new_df.iterrows(), total=new_df.shape[0]):\n",
    "        new_section = []\n",
    "                \n",
    "        for section in row['text_sections']:\n",
    "            if len(set(section.split()).intersection(keywords)) >= min_times:\n",
    "                new_section.append(section)\n",
    "        \n",
    "        new_section_list.append(new_section)\n",
    "    \n",
    "    new_df['text_sections'] = new_section_list\n",
    "    \n",
    "    return remove_short_section(new_df, min_words=min_words)"
   ]
  },
  {
   "cell_type": "markdown",
   "metadata": {},
   "source": [
    "## Load Data"
   ]
  },
  {
   "cell_type": "markdown",
   "metadata": {},
   "source": [
    "### Chairpersons"
   ]
  },
  {
   "cell_type": "code",
   "execution_count": 8,
   "metadata": {},
   "outputs": [],
   "source": [
    "# FOMC Chairperson's list\n",
    "chairpersons = pd.DataFrame(\n",
    "    data=[[\"Volcker\", \"Paul\", dt.datetime(1979,8,6), dt.datetime(1987,8,10)],\n",
    "          [\"Greenspan\", \"Alan\", dt.datetime(1987,8,11), dt.datetime(2006,1,31)], \n",
    "          [\"Bernanke\", \"Ben\", dt.datetime(2006,2,1), dt.datetime(2014,1,31)], \n",
    "          [\"Yellen\", \"Janet\", dt.datetime(2014,2,3), dt.datetime(2018,2,3)],\n",
    "          [\"Powell\", \"Jerome\", dt.datetime(2018,2,5), dt.datetime(2026,5,12)]], # could adjust to today\n",
    "    columns=[\"Surname\", \"FirstName\", \"FromDate\", \"ToDate\"])\n",
    "chairpersons"
   ]
  },
  {
   "cell_type": "markdown",
   "metadata": {},
   "source": [
    "### Load Calendar"
   ]
  },
  {
   "cell_type": "code",
   "execution_count": 9,
   "metadata": {
    "scrolled": true
   },
   "outputs": [],
   "source": [
    "file = open('../data/preprocessed/fomc_calendar.pickle', 'rb')\n",
    "\n",
    "fomc_calendar = pickle.load(file)\n",
    "file.close()\n",
    "\n",
    "print(fomc_calendar.shape)\n",
    "fomc_calendar"
   ]
  },
  {
   "cell_type": "code",
   "execution_count": 10,
   "metadata": {},
   "outputs": [],
   "source": [
    "# #Check caleander\n",
    "# fomc_calendar.loc[fomc_calendar.index >= dt.datetime(1998, 1, 27)]"
   ]
  },
  {
   "cell_type": "markdown",
   "metadata": {},
   "source": [
    "### Statement"
   ]
  },
  {
   "cell_type": "code",
   "execution_count": 11,
   "metadata": {
    "scrolled": true
   },
   "outputs": [],
   "source": [
    "file = open('../data/FOMC/statement.pickle', 'rb')\n",
    "\n",
    "statement_df = pickle.load(file)\n",
    "file.close()\n",
    "\n",
    "print(statement_df.shape)\n",
    "statement_df"
   ]
  },
  {
   "cell_type": "code",
   "execution_count": null,
   "metadata": {},
   "outputs": [],
   "source": []
  },
  {
   "cell_type": "code",
   "execution_count": 12,
   "metadata": {},
   "outputs": [],
   "source": [
    "# Sample Contents - the 2nd last\n",
    "print(statement_df['contents'].iloc[-1])"
   ]
  },
  {
   "cell_type": "markdown",
   "metadata": {},
   "source": [
    "### Meeting Minutes"
   ]
  },
  {
   "cell_type": "code",
   "execution_count": 13,
   "metadata": {
    "scrolled": true
   },
   "outputs": [],
   "source": [
    "file = open('../data/FOMC/minutes.pickle', 'rb')\n",
    "\n",
    "minutes_df = pickle.load(file)\n",
    "file.close()\n",
    "\n",
    "print(minutes_df.shape)\n",
    "minutes_df"
   ]
  },
  {
   "cell_type": "code",
   "execution_count": 14,
   "metadata": {},
   "outputs": [],
   "source": [
    "# Sample Contents - the 2nd last\n",
    "print(minutes_df['contents'].iloc[-1])"
   ]
  },
  {
   "cell_type": "markdown",
   "metadata": {},
   "source": [
    "### Meeting Transcripts"
   ]
  },
  {
   "cell_type": "code",
   "execution_count": 15,
   "metadata": {
    "scrolled": true
   },
   "outputs": [],
   "source": [
    "file = open('../data/FOMC/meeting_script.pickle', 'rb')\n",
    "\n",
    "meeting_script_df = pickle.load(file)\n",
    "file.close()\n",
    "\n",
    "print(meeting_script_df.shape)\n",
    "meeting_script_df"
   ]
  },
  {
   "cell_type": "code",
   "execution_count": 16,
   "metadata": {},
   "outputs": [],
   "source": [
    "# Sample Contents - the 2nd last\n",
    "print(meeting_script_df['contents'].iloc[-1])"
   ]
  },
  {
   "cell_type": "markdown",
   "metadata": {},
   "source": [
    "### Press Conference Transcripts"
   ]
  },
  {
   "cell_type": "code",
   "execution_count": 17,
   "metadata": {
    "scrolled": true
   },
   "outputs": [],
   "source": [
    "file = open('../data/FOMC/presconf_script.pickle', 'rb')\n",
    "\n",
    "presconf_script_df = pickle.load(file)\n",
    "file.close()\n",
    "\n",
    "print(presconf_script_df.shape)\n",
    "presconf_script_df"
   ]
  },
  {
   "cell_type": "code",
   "execution_count": 18,
   "metadata": {},
   "outputs": [],
   "source": [
    "# Sample Contents - the 2nd last\n",
    "print(presconf_script_df['contents'].iloc[-1])"
   ]
  },
  {
   "cell_type": "markdown",
   "metadata": {},
   "source": [
    "### Speech"
   ]
  },
  {
   "cell_type": "code",
   "execution_count": 19,
   "metadata": {
    "scrolled": true
   },
   "outputs": [],
   "source": [
    "file = open('../data/FOMC/speech.pickle', 'rb')\n",
    "\n",
    "speech_df = pickle.load(file)\n",
    "file.close()\n",
    "\n",
    "print(speech_df.shape)\n",
    "speech_df"
   ]
  },
  {
   "cell_type": "code",
   "execution_count": 20,
   "metadata": {},
   "outputs": [],
   "source": [
    "# Sample Contents - the 2nd last\n",
    "print(speech_df['contents'].iloc[-1])"
   ]
  },
  {
   "cell_type": "markdown",
   "metadata": {},
   "source": [
    "### Testimony"
   ]
  },
  {
   "cell_type": "code",
   "execution_count": 21,
   "metadata": {
    "scrolled": true
   },
   "outputs": [],
   "source": [
    "file = open('../data/FOMC/testimony.pickle', 'rb')\n",
    "\n",
    "testimony_df = pickle.load(file)\n",
    "file.close()\n",
    "\n",
    "print(testimony_df.shape)\n",
    "testimony_df"
   ]
  },
  {
   "cell_type": "code",
   "execution_count": 22,
   "metadata": {},
   "outputs": [],
   "source": [
    "# Sample Contents - the 2nd last\n",
    "print(testimony_df['contents'].iloc[-1])"
   ]
  },
  {
   "cell_type": "markdown",
   "metadata": {},
   "source": [
    "## Statements DataFrame"
   ]
  },
  {
   "cell_type": "code",
   "execution_count": 23,
   "metadata": {},
   "outputs": [],
   "source": [
    "statement_df.head()"
   ]
  },
  {
   "cell_type": "markdown",
   "metadata": {},
   "source": [
    "### Add Quantitative Easing as a Lower event"
   ]
  },
  {
   "cell_type": "code",
   "execution_count": 24,
   "metadata": {
    "scrolled": true
   },
   "outputs": [],
   "source": [
    "# Add When QE was first announced on 2008-11-25. No statemenet on that day.\n",
    "\n",
    "if statement_df.loc[statement_df['date'] == dt.datetime.strptime('2008-11-25', '%Y-%m-%d')].shape[0] == 0:\n",
    "    qe_text = \"The Federal Reserve announced on Tuesday that it will initiate a program \"\\\n",
    "              \"to purchase the direct obligations of housing-related government-sponsored \"\\\n",
    "              \"enterprises (GSEs)--Fannie Mae, Freddie Mac, and the Federal Home Loan Banks \"\\\n",
    "              \"--and mortgage-backed securities (MBS) backed by Fannie Mae, Freddie Mac, \"\\\n",
    "              \"and Ginnie Mae.  Spreads of rates on GSE debt and on GSE-guaranteed mortgages \"\\\n",
    "              \"have widened appreciably of late.  This action is being taken to reduce the cost \"\\\n",
    "              \"and increase the availability of credit for the purchase of houses, which in turn \"\\\n",
    "              \"should support housing markets and foster improved conditions in financial markets \"\\\n",
    "              \"more generally. Purchases of up to $100 billion in GSE direct obligations under \"\\\n",
    "              \"the program will be conducted with the Federal Reserve's primary dealers through \"\\\n",
    "              \"a series of competitive auctions and will begin next week.  Purchases of up to \"\\\n",
    "              \"$500 billion in MBS will be conducted by asset managers selected via a competitive \"\\\n",
    "              \"process with a goal of beginning these purchases before year-end.  \"\\\n",
    "              \"Purchases of both direct obligations and MBS are expected to take place over \"\\\n",
    "              \"several quarters.  Further information regarding the operational details of this \"\\\n",
    "              \"program will be provided after consultation with market participants.\"\n",
    "    statement_df = statement_df.append(\n",
    "        pd.Series([dt.datetime.strptime('2008-11-25', '%Y-%m-%d'), qe_text, 'Ben Bernanke', 'FOMC statement'], index=statement_df.columns),\n",
    "        ignore_index=True\n",
    "    )\n",
    "    "
   ]
  },
  {
   "cell_type": "code",
   "execution_count": null,
   "metadata": {},
   "outputs": [],
   "source": []
  },
  {
   "cell_type": "markdown",
   "metadata": {},
   "source": [
    "### Process the dataframe"
   ]
  },
  {
   "cell_type": "code",
   "execution_count": 25,
   "metadata": {
    "scrolled": true
   },
   "outputs": [],
   "source": [
    "# Reorganize the dataframe\n",
    "proc_statement_df = reorganize_df(statement_df, 'statement')"
   ]
  },
  {
   "cell_type": "code",
   "execution_count": 26,
   "metadata": {},
   "outputs": [],
   "source": [
    "# Check the returned dataframe\n",
    "proc_statement_df"
   ]
  },
  {
   "cell_type": "code",
   "execution_count": 27,
   "metadata": {
    "scrolled": true
   },
   "outputs": [],
   "source": [
    "# Check which row does not have rate\n",
    "proc_statement_df.loc[proc_statement_df['rate'].isnull()]"
   ]
  },
  {
   "cell_type": "code",
   "execution_count": null,
   "metadata": {},
   "outputs": [],
   "source": []
  },
  {
   "cell_type": "code",
   "execution_count": null,
   "metadata": {},
   "outputs": [],
   "source": []
  },
  {
   "cell_type": "code",
   "execution_count": 28,
   "metadata": {
    "scrolled": true
   },
   "outputs": [],
   "source": [
    "# Remove sections having less than 50 words because those are unlikely to contain meaningful sentences.\n",
    "proc_statement_df = remove_short_section(proc_statement_df, min_words=50)\n",
    "proc_statement_df\n"
   ]
  },
  {
   "cell_type": "code",
   "execution_count": 29,
   "metadata": {},
   "outputs": [],
   "source": [
    "plt.figure(figsize=(10,5))\n",
    "sns.distplot(proc_statement_df[\"word_count\"].values, bins=50)"
   ]
  },
  {
   "cell_type": "markdown",
   "metadata": {},
   "source": [
    "### Split contents to max 200 words"
   ]
  },
  {
   "cell_type": "code",
   "execution_count": 30,
   "metadata": {
    "scrolled": true
   },
   "outputs": [],
   "source": [
    "split_statement_df = get_split_df(proc_statement_df)\n",
    "split_statement_df.tail(10)"
   ]
  },
  {
   "cell_type": "markdown",
   "metadata": {},
   "source": [
    "### Filter out by keywords"
   ]
  },
  {
   "cell_type": "code",
   "execution_count": 31,
   "metadata": {},
   "outputs": [],
   "source": [
    "# Keep sections having keywords and long enough\n",
    "keyword_statement_df = remove_short_nokeyword(proc_statement_df)\n",
    "keyword_statement_df.reset_index(drop=True, inplace=True)\n",
    "print(keyword_statement_df.shape)\n",
    "keyword_statement_df"
   ]
  },
  {
   "cell_type": "code",
   "execution_count": 32,
   "metadata": {},
   "outputs": [],
   "source": [
    "# Drop text during the process to reduce the output size\n",
    "proc_statement_df.drop(columns=['text_sections', 'org_text'], inplace=True)\n",
    "split_statement_df.drop(columns=['text_sections', 'org_text'], inplace=True)\n",
    "keyword_statement_df.drop(columns=['text_sections', 'org_text'], inplace=True)"
   ]
  },
  {
   "cell_type": "markdown",
   "metadata": {},
   "source": [
    "## Minutes DataFrame"
   ]
  },
  {
   "cell_type": "code",
   "execution_count": 33,
   "metadata": {
    "scrolled": true
   },
   "outputs": [],
   "source": [
    "minutes_df.head()"
   ]
  },
  {
   "cell_type": "code",
   "execution_count": 34,
   "metadata": {
    "scrolled": true
   },
   "outputs": [],
   "source": [
    "# Reorganize the dataframe\n",
    "proc_minutes_df = reorganize_df(minutes_df, 'minutes')"
   ]
  },
  {
   "cell_type": "code",
   "execution_count": 35,
   "metadata": {},
   "outputs": [],
   "source": [
    "# Check the returned dataframe\n",
    "proc_minutes_df"
   ]
  },
  {
   "cell_type": "code",
   "execution_count": 36,
   "metadata": {},
   "outputs": [],
   "source": [
    "# Check which row does not have rate\n",
    "proc_minutes_df.loc[proc_minutes_df['rate'].isnull()]"
   ]
  },
  {
   "cell_type": "code",
   "execution_count": 37,
   "metadata": {},
   "outputs": [],
   "source": [
    "plt.figure(figsize=(10,5))\n",
    "sns.distplot(proc_minutes_df[\"word_count\"].values, bins=50)"
   ]
  },
  {
   "cell_type": "code",
   "execution_count": 38,
   "metadata": {},
   "outputs": [],
   "source": [
    "# Check which row does not have rate\n",
    "proc_minutes_df.loc[proc_minutes_df['rate'].isnull()]"
   ]
  },
  {
   "cell_type": "markdown",
   "metadata": {},
   "source": [
    "Meeting minutes includes various topics, so it makes sense to extract relevant sections. <br />\n",
    "Check some common sections."
   ]
  },
  {
   "cell_type": "code",
   "execution_count": 39,
   "metadata": {
    "scrolled": true
   },
   "outputs": [],
   "source": [
    "# Check what kind of sections are in common\n",
    "\n",
    "a = minutes_df.contents.str.lower().str.count('staff economic outlook')\n",
    "b = minutes_df.contents.str.lower().str.count('developments in financial markets')\n",
    "c = minutes_df.contents.str.lower().str.count('staff review of the economic situation')\n",
    "d = minutes_df.contents.str.lower().str.count('staff review of the financial situation')\n",
    "e = minutes_df.contents.str.lower().str.count('participants\\' views on current condition')\n",
    "f = minutes_df.contents.str.lower().str.count('committee policy action')\n",
    "g = minutes_df.contents.str.lower().str.count('voting for this action')\n",
    "h = minutes_df.contents.str.lower().str.count('federal fund')\n",
    "\n",
    "pd.options.display.max_rows = 300\n",
    "pd.DataFrame({'date': minutes_df['date'], 'a': a, 'b':b, 'c':c, 'd':d, 'e':e, 'f':f, 'g':g, 'h':h})"
   ]
  },
  {
   "cell_type": "code",
   "execution_count": 40,
   "metadata": {},
   "outputs": [],
   "source": [
    "pd.options.display.max_rows = 20"
   ]
  },
  {
   "cell_type": "markdown",
   "metadata": {},
   "source": [
    "Sections are added from time to time. For example, quarterly economic forcast started in 2009. Leave manually handling those for now, take another approach to filter sentenses by length and key words here."
   ]
  },
  {
   "cell_type": "code",
   "execution_count": 41,
   "metadata": {},
   "outputs": [],
   "source": [
    "proc_minutes_df = remove_short_section(proc_minutes_df, min_words=50)"
   ]
  },
  {
   "cell_type": "markdown",
   "metadata": {},
   "source": [
    "### Split contents to max 200 words"
   ]
  },
  {
   "cell_type": "code",
   "execution_count": 42,
   "metadata": {
    "scrolled": true
   },
   "outputs": [],
   "source": [
    "split_minutes_df = get_split_df(proc_minutes_df)\n",
    "print(split_minutes_df.shape)\n",
    "split_minutes_df.tail(10)"
   ]
  },
  {
   "cell_type": "markdown",
   "metadata": {},
   "source": [
    "### Filter out by keywords"
   ]
  },
  {
   "cell_type": "code",
   "execution_count": 43,
   "metadata": {},
   "outputs": [],
   "source": [
    "# Keep sections having keywords and long enough\n",
    "keyword_minutes_df = remove_short_nokeyword(proc_minutes_df)\n",
    "keyword_minutes_df.reset_index(drop=True, inplace=True)\n",
    "print(keyword_minutes_df.shape)\n",
    "keyword_minutes_df"
   ]
  },
  {
   "cell_type": "code",
   "execution_count": 44,
   "metadata": {},
   "outputs": [],
   "source": [
    "plt.figure(figsize=(10,5))\n",
    "sns.distplot(proc_minutes_df[\"word_count\"].values, bins=50)"
   ]
  },
  {
   "cell_type": "code",
   "execution_count": 45,
   "metadata": {},
   "outputs": [],
   "source": [
    "# Drop text during the process to reduce the output size\n",
    "proc_minutes_df.drop(columns=['text_sections', 'org_text'], inplace=True)\n",
    "split_minutes_df.drop(columns=['text_sections', 'org_text'], inplace=True)\n",
    "keyword_minutes_df.drop(columns=['text_sections', 'org_text'], inplace=True)"
   ]
  },
  {
   "cell_type": "markdown",
   "metadata": {},
   "source": [
    "## Press Conference Script DataFrame\n",
    "Press Conference transcripts are available only from 2011"
   ]
  },
  {
   "cell_type": "code",
   "execution_count": 46,
   "metadata": {},
   "outputs": [],
   "source": [
    "# Sample\n",
    "print(presconf_script_df['contents'][2])"
   ]
  },
  {
   "cell_type": "code",
   "execution_count": 47,
   "metadata": {
    "scrolled": true
   },
   "outputs": [],
   "source": [
    "# Reorganize the dataframe\n",
    "proc_presconf_script_df = reorganize_df(presconf_script_df, 'presconf_script')\n"
   ]
  },
  {
   "cell_type": "code",
   "execution_count": 48,
   "metadata": {},
   "outputs": [],
   "source": [
    "# Check the returned dataframe\n",
    "proc_presconf_script_df"
   ]
  },
  {
   "cell_type": "code",
   "execution_count": 49,
   "metadata": {},
   "outputs": [],
   "source": [
    "# Check which row does not have rate\n",
    "proc_presconf_script_df.loc[proc_presconf_script_df['rate'].isnull()]"
   ]
  },
  {
   "cell_type": "markdown",
   "metadata": {},
   "source": [
    "### Split by speakers\n",
    "Scripts contain words from different people, so split by the speaker"
   ]
  },
  {
   "cell_type": "code",
   "execution_count": 50,
   "metadata": {
    "scrolled": true
   },
   "outputs": [],
   "source": [
    "script_data_list = []\n",
    "\n",
    "for i, row in tqdm(proc_presconf_script_df.iterrows()):\n",
    "    for text in row[\"text_sections\"]:\n",
    "        match = re.findall(r'(^[A-Za-zŞ. ]*[A-Z]{3}).\\d? (.*)', text)\n",
    "        if len(match) == 0:\n",
    "            match = re.findall(r'(^[A-Za-zŞ. ]*[A-Z]{3}).\\d(.*)', text)\n",
    "            if len(match) == 0:\n",
    "                print(\"not matched: \", text)\n",
    "                print(row['date'])\n",
    "                print()\n",
    "        if len(match) == 1:\n",
    "            speaker, text = match[0]\n",
    "            row['speaker'] = speaker\n",
    "            row['text'] = text\n",
    "            row['word_count'] = len(re.findall(r'\\b([a-zA-Z]+n\\'t|[a-zA-Z]+\\'s|[a-zA-Z]+)\\b', text))\n",
    "            script_data_list.append(list(row))\n",
    "\n",
    "col_name = proc_presconf_script_df.columns\n",
    "\n",
    "presconf_script_speaker_df = pd.DataFrame(script_data_list, columns = col_name)\n",
    "presconf_script_speaker_df"
   ]
  },
  {
   "cell_type": "code",
   "execution_count": 51,
   "metadata": {},
   "outputs": [],
   "source": [
    "# Filter by the word count\n",
    "presconf_script_speaker_df = presconf_script_speaker_df.loc[presconf_script_speaker_df['word_count'] >= 50]"
   ]
  },
  {
   "cell_type": "code",
   "execution_count": 52,
   "metadata": {},
   "outputs": [],
   "source": [
    "print(presconf_script_speaker_df.shape)\n",
    "sns.distplot(presconf_script_speaker_df[\"word_count\"].values, bins=50)"
   ]
  },
  {
   "cell_type": "code",
   "execution_count": null,
   "metadata": {},
   "outputs": [],
   "source": []
  },
  {
   "cell_type": "code",
   "execution_count": 53,
   "metadata": {},
   "outputs": [],
   "source": [
    "# Filter to have only chairperson's speak\n",
    "\n",
    "tmp_list = []\n",
    "for i, row in presconf_script_speaker_df.iterrows():\n",
    "    chairperson = get_chairperson(row['date'])\n",
    "    if chairperson.lower().split()[-1] in row['speaker'].lower():\n",
    "        row['speaker'] = chairperson\n",
    "        tmp_list.append(list(row))\n",
    "\n",
    "col_names = presconf_script_speaker_df.columns\n",
    "presconf_script_chair_df = pd.DataFrame(data=tmp_list, columns=col_names)\n",
    "presconf_script_chair_df"
   ]
  },
  {
   "cell_type": "code",
   "execution_count": 54,
   "metadata": {
    "scrolled": true
   },
   "outputs": [],
   "source": [
    "# Combine scripts of the same speaker for the same day.\n",
    "tmp_date = ''\n",
    "tmp_speaker = ''\n",
    "tmp_data = []\n",
    "\n",
    "print('Before: ', presconf_script_chair_df.shape)\n",
    "\n",
    "for i, row in tqdm(presconf_script_chair_df.iterrows()):\n",
    "    if (row['date'] == tmp_date) and (row['speaker'] == tmp_speaker):\n",
    "        tmp_data[-1]['text'] += row['text']\n",
    "        tmp_data[-1]['word_count'] += row['word_count']\n",
    "        tmp_data[-1]['text_sections'].append(row['text'])\n",
    "    else:\n",
    "        tmp_date = row['date']\n",
    "        tmp_speaker = row['speaker']\n",
    "        row['text_sections'] = [row['text']]\n",
    "        tmp_data.append(row)\n",
    "\n",
    "presconf_script_chair_day_df = pd.DataFrame(tmp_data)\n",
    "\n",
    "print('After', presconf_script_chair_day_df.shape)\n",
    "presconf_script_chair_day_df.head()"
   ]
  },
  {
   "cell_type": "code",
   "execution_count": 55,
   "metadata": {},
   "outputs": [],
   "source": [
    "sns.distplot(list(presconf_script_chair_day_df['word_count']), bins=50, kde=False)"
   ]
  },
  {
   "cell_type": "code",
   "execution_count": 56,
   "metadata": {},
   "outputs": [],
   "source": [
    "# # Check text\n",
    "# print(presconf_script_chair_day_df['text'][0])"
   ]
  },
  {
   "cell_type": "markdown",
   "metadata": {},
   "source": [
    "### Split contents to max 200 words"
   ]
  },
  {
   "cell_type": "code",
   "execution_count": 57,
   "metadata": {
    "scrolled": true
   },
   "outputs": [],
   "source": [
    "presconf_script_split_df = get_split_df(presconf_script_chair_day_df)\n",
    "print(presconf_script_split_df.shape)\n",
    "presconf_script_split_df.tail()"
   ]
  },
  {
   "cell_type": "markdown",
   "metadata": {},
   "source": [
    "### Filter out by keywords"
   ]
  },
  {
   "cell_type": "code",
   "execution_count": 58,
   "metadata": {
    "scrolled": true
   },
   "outputs": [],
   "source": [
    "# Keep sections having keywords and long enough\n",
    "presconf_script_keyword_df = remove_short_nokeyword(presconf_script_chair_day_df)\n",
    "presconf_script_keyword_df.reset_index(drop=True, inplace=True)\n",
    "print(presconf_script_keyword_df.shape)\n",
    "presconf_script_keyword_df"
   ]
  },
  {
   "cell_type": "code",
   "execution_count": 59,
   "metadata": {},
   "outputs": [],
   "source": [
    "sns.distplot(list(presconf_script_keyword_df['word_count']), bins=50, kde=False)"
   ]
  },
  {
   "cell_type": "code",
   "execution_count": 60,
   "metadata": {},
   "outputs": [],
   "source": [
    "# Drop text during the process to reduce the output size\n",
    "presconf_script_chair_day_df.drop(columns=['text_sections', 'org_text'], inplace=True)\n",
    "presconf_script_split_df.drop(columns=['text_sections', 'org_text'], inplace=True)\n",
    "presconf_script_keyword_df.drop(columns=['text_sections', 'org_text'], inplace=True)"
   ]
  },
  {
   "cell_type": "markdown",
   "metadata": {},
   "source": [
    "## Meeting Script DataFrame"
   ]
  },
  {
   "cell_type": "code",
   "execution_count": 61,
   "metadata": {},
   "outputs": [],
   "source": [
    "# Sample\n",
    "print(meeting_script_df['contents'][2])"
   ]
  },
  {
   "cell_type": "code",
   "execution_count": 62,
   "metadata": {},
   "outputs": [],
   "source": [
    "# Reorganize the dataframe\n",
    "proc_meeting_script_df = reorganize_df(meeting_script_df, 'meeting_script')\n"
   ]
  },
  {
   "cell_type": "code",
   "execution_count": 63,
   "metadata": {},
   "outputs": [],
   "source": [
    "# Check the returned dataframe\n",
    "proc_meeting_script_df"
   ]
  },
  {
   "cell_type": "code",
   "execution_count": 64,
   "metadata": {},
   "outputs": [],
   "source": [
    "# Check which row does not have rate\n",
    "proc_meeting_script_df.loc[proc_meeting_script_df['rate'].isnull()]"
   ]
  },
  {
   "cell_type": "code",
   "execution_count": 65,
   "metadata": {},
   "outputs": [],
   "source": [
    "print(proc_meeting_script_df.shape)\n",
    "sns.distplot(proc_meeting_script_df[\"word_count\"].values, bins=50)"
   ]
  },
  {
   "cell_type": "markdown",
   "metadata": {},
   "source": [
    "### Split by speakers\n",
    "Scripts contain words from different people, so split by the speaker"
   ]
  },
  {
   "cell_type": "code",
   "execution_count": 66,
   "metadata": {},
   "outputs": [],
   "source": [
    "script_data_list = []\n",
    "\n",
    "for i, row in tqdm(proc_meeting_script_df.iterrows()):\n",
    "    for text in row[\"text_sections\"]:\n",
    "        match = re.findall(r'(^[A-Za-zŞ. ]*[A-Z]{3}).\\d? (.*)', text)\n",
    "        if len(match) == 0:\n",
    "            match = re.findall(r'(^[A-Za-zŞ. ]*[A-Z]{3}).\\d(.*)', text)\n",
    "            if len(match) == 0:\n",
    "                print(\"not matched: \", text)\n",
    "                print(row['date'])\n",
    "                print()\n",
    "        if len(match) == 1:\n",
    "            speaker, text = match[0]\n",
    "            row['speaker'] = speaker\n",
    "            row['text'] = text\n",
    "            row['word_count'] = len(re.findall(r'\\b([a-zA-Z]+n\\'t|[a-zA-Z]+\\'s|[a-zA-Z]+)\\b', text))\n",
    "            script_data_list.append(list(row))\n",
    "\n",
    "col_name = proc_meeting_script_df.columns\n",
    "\n",
    "meeting_script_speaker_df = pd.DataFrame(script_data_list, columns = col_name)\n",
    "meeting_script_speaker_df"
   ]
  },
  {
   "cell_type": "markdown",
   "metadata": {},
   "source": [
    "Some are not matching the defined patterns but those unmatched ones do not look importnant. Thus ignore them here."
   ]
  },
  {
   "cell_type": "code",
   "execution_count": 67,
   "metadata": {},
   "outputs": [],
   "source": [
    "# Filter by word count having 20 or more.\n",
    "print(\"Before: \", meeting_script_speaker_df.shape)\n",
    "meeting_script_speaker_df = meeting_script_speaker_df.loc[meeting_script_speaker_df['word_count'] >= 20]\n",
    "print(\"After: \", meeting_script_speaker_df.shape)"
   ]
  },
  {
   "cell_type": "code",
   "execution_count": 68,
   "metadata": {},
   "outputs": [],
   "source": [
    "sns.distplot(meeting_script_speaker_df[\"word_count\"].values, bins=50)"
   ]
  },
  {
   "cell_type": "code",
   "execution_count": 69,
   "metadata": {},
   "outputs": [],
   "source": [
    "# Combine scripts for the same day.\n",
    "meeting_script_speaker_df = meeting_script_speaker_df.groupby(['type', 'date', 'title', 'speaker', 'decision', 'rate', 'next_meeting', 'next_decision', 'next_rate'])['text'].apply('[SECTION]'.join).reset_index()\n",
    "meeting_script_speaker_df['text_sections'] = meeting_script_speaker_df['text'].map(lambda x: x.split(\"[SECTION]\"))\n",
    "meeting_script_speaker_df['text'] = meeting_script_speaker_df['text'].map(lambda x: x.replace(\"[SECTION]\", \"\"))\n",
    "meeting_script_speaker_df['word_count'] = meeting_script_speaker_df['text'].map(get_word_count)\n",
    "meeting_script_speaker_df\n"
   ]
  },
  {
   "cell_type": "code",
   "execution_count": 70,
   "metadata": {},
   "outputs": [],
   "source": [
    "sns.distplot(meeting_script_speaker_df[\"word_count\"].values, bins=50)"
   ]
  },
  {
   "cell_type": "markdown",
   "metadata": {},
   "source": [
    "### Split contents to max 200 words"
   ]
  },
  {
   "cell_type": "code",
   "execution_count": 71,
   "metadata": {
    "scrolled": true
   },
   "outputs": [],
   "source": [
    "meeting_script_split_df = get_split_df(meeting_script_speaker_df)\n",
    "print(meeting_script_split_df.shape)\n",
    "meeting_script_split_df"
   ]
  },
  {
   "cell_type": "markdown",
   "metadata": {},
   "source": [
    "### Filter out by keywords"
   ]
  },
  {
   "cell_type": "code",
   "execution_count": 72,
   "metadata": {
    "scrolled": true
   },
   "outputs": [],
   "source": [
    "# Keep sections having keywords and long enough\n",
    "meeting_script_keyword_df = remove_short_nokeyword(meeting_script_speaker_df)\n",
    "meeting_script_keyword_df.reset_index(drop=True, inplace=True)\n",
    "print(meeting_script_keyword_df.shape)\n",
    "meeting_script_keyword_df"
   ]
  },
  {
   "cell_type": "code",
   "execution_count": 73,
   "metadata": {},
   "outputs": [],
   "source": [
    "# Drop text during the process to reduce the output size\n",
    "meeting_script_speaker_df.drop(columns=['text_sections'], inplace=True)\n",
    "meeting_script_split_df.drop(columns=['text_sections'], inplace=True)\n",
    "meeting_script_keyword_df.drop(columns=['text_sections'], inplace=True)"
   ]
  },
  {
   "cell_type": "markdown",
   "metadata": {},
   "source": [
    "## Speech DataFrame"
   ]
  },
  {
   "cell_type": "code",
   "execution_count": 74,
   "metadata": {
    "scrolled": true
   },
   "outputs": [],
   "source": [
    "# Reorganize the dataframe\n",
    "proc_speech_df = reorganize_df(speech_df, 'speech')"
   ]
  },
  {
   "cell_type": "code",
   "execution_count": 75,
   "metadata": {},
   "outputs": [],
   "source": [
    "# Check the returned dataframe\n",
    "# Note that rate and decision are not applicable because speech is not at FOMC meeting\n",
    "proc_speech_df"
   ]
  },
  {
   "cell_type": "code",
   "execution_count": 76,
   "metadata": {
    "scrolled": true
   },
   "outputs": [],
   "source": [
    "print(proc_speech_df.shape)\n",
    "sns.distplot(proc_speech_df[\"word_count\"].values, bins=50)"
   ]
  },
  {
   "cell_type": "code",
   "execution_count": 77,
   "metadata": {},
   "outputs": [],
   "source": [
    "# Check records where speaker is null\n",
    "proc_speech_df['speaker'].isnull().sum()"
   ]
  },
  {
   "cell_type": "code",
   "execution_count": 78,
   "metadata": {},
   "outputs": [],
   "source": [
    "# Remove sections having less than 50 words because those are unlikely to contain meaningful sentences.\n",
    "proc_speech_df = remove_short_section(proc_speech_df, min_words=50)\n",
    "proc_speech_df\n"
   ]
  },
  {
   "cell_type": "code",
   "execution_count": 79,
   "metadata": {},
   "outputs": [],
   "source": [
    "# Extract Chairperson's speech\n",
    "tmp_list = []\n",
    "for i, row in proc_speech_df.iterrows():\n",
    "    chairperson = get_chairperson(row['date'])\n",
    "    if chairperson.lower().split()[-1] in row['speaker'].lower():\n",
    "        row['speaker'] = chairperson\n",
    "        tmp_list.append(list(row))\n",
    "\n",
    "col_names = proc_speech_df.columns\n",
    "speech_chair_df = pd.DataFrame(data=tmp_list, columns=col_names)\n",
    "\n",
    "print(speech_chair_df.shape)\n",
    "speech_chair_df"
   ]
  },
  {
   "cell_type": "markdown",
   "metadata": {},
   "source": [
    "### Split contents to max 200 words"
   ]
  },
  {
   "cell_type": "code",
   "execution_count": 80,
   "metadata": {
    "scrolled": true
   },
   "outputs": [],
   "source": [
    "speech_split_df = get_split_df(speech_chair_df)\n",
    "speech_split_df.reset_index(drop=True, inplace=True)\n",
    "print(speech_split_df.shape)\n",
    "speech_split_df"
   ]
  },
  {
   "cell_type": "markdown",
   "metadata": {},
   "source": [
    "### Filter out by keyword"
   ]
  },
  {
   "cell_type": "code",
   "execution_count": 81,
   "metadata": {},
   "outputs": [],
   "source": [
    "# Keep sections having keywords and long enough\n",
    "speech_keyword_df = remove_short_nokeyword(speech_chair_df)\n",
    "speech_keyword_df.reset_index(drop=True, inplace=True)\n",
    "print(speech_keyword_df.shape)\n",
    "speech_keyword_df"
   ]
  },
  {
   "cell_type": "code",
   "execution_count": 82,
   "metadata": {},
   "outputs": [],
   "source": [
    "# Drop text_sections\n",
    "speech_chair_df.drop(columns=['text_sections', 'org_text'], inplace=True)\n",
    "speech_split_df.drop(columns=['text_sections', 'org_text'], inplace=True)\n",
    "speech_keyword_df.drop(columns=['text_sections', 'org_text'], inplace=True)"
   ]
  },
  {
   "cell_type": "markdown",
   "metadata": {},
   "source": [
    "## Testimony DataFrame"
   ]
  },
  {
   "cell_type": "code",
   "execution_count": 83,
   "metadata": {
    "scrolled": true
   },
   "outputs": [],
   "source": [
    "# Reorganize the dataframe\n",
    "# Note that rate and decision are not applicable because testimony is not at FOMC meeting\n",
    "proc_testimony_df = reorganize_df(testimony_df, 'testimony')"
   ]
  },
  {
   "cell_type": "code",
   "execution_count": 84,
   "metadata": {},
   "outputs": [],
   "source": [
    "# Check the returned dataframe\n",
    "proc_testimony_df"
   ]
  },
  {
   "cell_type": "code",
   "execution_count": 85,
   "metadata": {},
   "outputs": [],
   "source": [
    "print(proc_testimony_df.shape)\n",
    "sns.distplot(proc_testimony_df[\"word_count\"].values, bins=50)"
   ]
  },
  {
   "cell_type": "code",
   "execution_count": 86,
   "metadata": {},
   "outputs": [],
   "source": [
    "# Check records where speaker is null\n",
    "proc_testimony_df['speaker'].isnull().sum()"
   ]
  },
  {
   "cell_type": "code",
   "execution_count": 87,
   "metadata": {},
   "outputs": [],
   "source": [
    "# Remove sections having less than 50 words because those are unlikely to contain meaningful sentences.\n",
    "proc_testimony_df = remove_short_section(proc_testimony_df, min_words=50)\n",
    "proc_testimony_df"
   ]
  },
  {
   "cell_type": "code",
   "execution_count": 88,
   "metadata": {},
   "outputs": [],
   "source": [
    "# Extract Chairperson's speech\n",
    "tmp_list = []\n",
    "for i, row in proc_testimony_df.iterrows():\n",
    "    chairperson = get_chairperson(row['date'])\n",
    "    if chairperson.lower().split()[-1] in row['speaker'].lower():\n",
    "        row['speaker'] = chairperson\n",
    "        tmp_list.append(list(row))\n",
    "\n",
    "col_names = proc_testimony_df.columns\n",
    "testimony_chair_df = pd.DataFrame(data=tmp_list, columns=col_names)\n",
    "testimony_chair_df"
   ]
  },
  {
   "cell_type": "markdown",
   "metadata": {},
   "source": [
    "### Split contents to max 200 words"
   ]
  },
  {
   "cell_type": "code",
   "execution_count": 89,
   "metadata": {},
   "outputs": [],
   "source": [
    "testimony_split_df = get_split_df(testimony_chair_df)\n",
    "testimony_split_df.reset_index(drop=True, inplace=True)\n",
    "print(testimony_split_df.shape)\n",
    "testimony_split_df"
   ]
  },
  {
   "cell_type": "markdown",
   "metadata": {},
   "source": [
    "### Filter out by keyword"
   ]
  },
  {
   "cell_type": "code",
   "execution_count": 90,
   "metadata": {},
   "outputs": [],
   "source": [
    "# Keep sections having keywords and long enough\n",
    "testimony_keyword_df = remove_short_nokeyword(testimony_chair_df)\n",
    "testimony_keyword_df.reset_index(drop=True, inplace=True)\n",
    "print(testimony_keyword_df.shape)\n",
    "testimony_keyword_df"
   ]
  },
  {
   "cell_type": "code",
   "execution_count": 91,
   "metadata": {},
   "outputs": [],
   "source": [
    "# Drop text sections\n",
    "testimony_chair_df.drop(columns=['text_sections', 'org_text'], inplace=True)\n",
    "testimony_split_df.drop(columns=['text_sections', 'org_text'], inplace=True)\n",
    "testimony_keyword_df.drop(columns=['text_sections', 'org_text'], inplace=True)"
   ]
  },
  {
   "cell_type": "markdown",
   "metadata": {},
   "source": [
    "## Save the train data"
   ]
  },
  {
   "cell_type": "code",
   "execution_count": 92,
   "metadata": {},
   "outputs": [],
   "source": [
    "# Combine dataframes\n",
    "text_no_split = pd.concat([proc_statement_df, \n",
    "                           proc_minutes_df, \n",
    "                           presconf_script_chair_day_df, \n",
    "                           meeting_script_speaker_df, \n",
    "                           speech_chair_df,\n",
    "                           testimony_chair_df], sort=False)\n",
    "text_no_split.reset_index(drop=True, inplace=True)\n",
    "\n",
    "text_split_200 = pd.concat([split_statement_df, \n",
    "                            split_minutes_df, \n",
    "                            presconf_script_split_df, \n",
    "                            meeting_script_split_df, \n",
    "                            speech_split_df, \n",
    "                            testimony_split_df], sort=False)\n",
    "text_split_200.reset_index(drop=True, inplace=True)\n",
    "\n",
    "text_keyword = pd.concat([keyword_statement_df,\n",
    "                          keyword_minutes_df,\n",
    "                          presconf_script_keyword_df,\n",
    "                          meeting_script_keyword_df, \n",
    "                          speech_keyword_df, \n",
    "                          testimony_keyword_df], sort=False)\n",
    "text_keyword.reset_index(drop=True, inplace=True)"
   ]
  },
  {
   "cell_type": "code",
   "execution_count": 93,
   "metadata": {},
   "outputs": [],
   "source": [
    "def save_data(df, file_name, dir_name='../data/preprocessed/'):\n",
    "    '''\n",
    "    Save the given df to pickle file and csv file in the given directory.\n",
    "    '''\n",
    "    if not os.path.exists(dir_name):\n",
    "        os.mkdir(dir_name)\n",
    "    \n",
    "    # Save results to a picke file\n",
    "    file = open(dir_name + file_name + '.pickle', 'wb')\n",
    "    pickle.dump(df, file)\n",
    "    file.close()\n",
    "    print(\"Data Saved to a pickle file in {} !\".format(dir_name))\n",
    "\n",
    "    # Save results to a csv file\n",
    "    df.to_csv(dir_name + file_name + '.csv', index=True)\n",
    "    print(\"Data Saved to a csv file in {} !\".format(dir_name))\n",
    "    "
   ]
  },
  {
   "cell_type": "code",
   "execution_count": 94,
   "metadata": {},
   "outputs": [],
   "source": [
    "save_data(text_no_split, 'text_no_split')\n",
    "save_data(text_split_200, 'text_split_200')\n",
    "save_data(text_keyword, 'text_keyword')"
   ]
  },
  {
   "cell_type": "code",
   "execution_count": null,
   "metadata": {},
   "outputs": [],
   "source": []
  },
  {
   "cell_type": "code",
   "execution_count": null,
   "metadata": {},
   "outputs": [],
   "source": []
  },
  {
   "cell_type": "code",
   "execution_count": null,
   "metadata": {},
   "outputs": [],
   "source": []
  },
  {
   "cell_type": "code",
   "execution_count": null,
   "metadata": {},
   "outputs": [],
   "source": []
  },
  {
   "cell_type": "code",
   "execution_count": null,
   "metadata": {},
   "outputs": [],
   "source": []
  }
 ],
 "metadata": {
  "kernelspec": {
   "display_name": "Python 3 (ipykernel)",
   "language": "python",
   "name": "python3"
  },
  "language_info": {
   "codemirror_mode": {
    "name": "ipython",
    "version": 3
   },
   "file_extension": ".py",
   "mimetype": "text/x-python",
   "name": "python",
   "nbconvert_exporter": "python",
   "pygments_lexer": "ipython3",
   "version": "3.11.3"
  }
 },
 "nbformat": 4,
 "nbformat_minor": 2
}
